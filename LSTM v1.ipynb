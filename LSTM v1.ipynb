{
 "cells": [
  {
   "cell_type": "code",
   "execution_count": 36,
   "id": "44a97b45",
   "metadata": {},
   "outputs": [],
   "source": [
    "from nsepy import get_history\n",
    "from datetime import date\n",
    "import os\n",
    "import pandas as pd\n",
    "import streamlit as st\n",
    "import matplotlib.dates as mdates\n",
    "import matplotlib.pyplot as plt\n",
    "from matplotlib.dates import DateFormatter, WeekdayLocator,DayLocator, MONDAY\n",
    "import mplfinance as mpf\n",
    "from matplotlib import gridspec\n",
    "import numpy as np\n",
    "import matplotlib.ticker as ticker\n",
    "import yfinance as yf \n",
    "from matplotlib.ticker import (MultipleLocator, AutoMinorLocator)\n",
    "from selenium import webdriver\n",
    "from bs4 import BeautifulSoup\n",
    "import requests\n",
    "import datetime\n",
    "import neptune\n",
    "from sklearn.preprocessing import StandardScaler"
   ]
  },
  {
   "cell_type": "code",
   "execution_count": 37,
   "id": "fe37a54c",
   "metadata": {},
   "outputs": [],
   "source": [
    "stock_names=pd.read_csv(\"Equity.csv\")"
   ]
  },
  {
   "cell_type": "code",
   "execution_count": 62,
   "id": "ebeb7b87",
   "metadata": {
    "scrolled": true
   },
   "outputs": [
    {
     "data": {
      "text/html": [
       "<div>\n",
       "<style scoped>\n",
       "    .dataframe tbody tr th:only-of-type {\n",
       "        vertical-align: middle;\n",
       "    }\n",
       "\n",
       "    .dataframe tbody tr th {\n",
       "        vertical-align: top;\n",
       "    }\n",
       "\n",
       "    .dataframe thead th {\n",
       "        text-align: right;\n",
       "    }\n",
       "</style>\n",
       "<table border=\"1\" class=\"dataframe\">\n",
       "  <thead>\n",
       "    <tr style=\"text-align: right;\">\n",
       "      <th></th>\n",
       "      <th>Security Code</th>\n",
       "      <th>Issuer Name</th>\n",
       "      <th>Security Id</th>\n",
       "      <th>Security Name</th>\n",
       "      <th>Status</th>\n",
       "      <th>Group</th>\n",
       "      <th>Face Value</th>\n",
       "      <th>ISIN No</th>\n",
       "      <th>Industry</th>\n",
       "      <th>Instrument</th>\n",
       "      <th>Sector Name</th>\n",
       "      <th>Industry New Name</th>\n",
       "      <th>Igroup Name</th>\n",
       "      <th>ISubgroup Name</th>\n",
       "    </tr>\n",
       "  </thead>\n",
       "  <tbody>\n",
       "    <tr>\n",
       "      <th>500002</th>\n",
       "      <td>ABB India Limited</td>\n",
       "      <td>ABB</td>\n",
       "      <td>ABB India Limited</td>\n",
       "      <td>Active</td>\n",
       "      <td>A</td>\n",
       "      <td>2.0</td>\n",
       "      <td>INE117A01022</td>\n",
       "      <td>Heavy Electrical Equipment</td>\n",
       "      <td>Equity</td>\n",
       "      <td>Industrials</td>\n",
       "      <td>Capital Goods</td>\n",
       "      <td>Electrical Equipment</td>\n",
       "      <td>Heavy Electrical Equipment</td>\n",
       "      <td>NaN</td>\n",
       "    </tr>\n",
       "    <tr>\n",
       "      <th>500003</th>\n",
       "      <td>Aegis Logistics Ltd.</td>\n",
       "      <td>AEGISLOG</td>\n",
       "      <td>AEGIS LOGISTICS LTD.</td>\n",
       "      <td>Active</td>\n",
       "      <td>A</td>\n",
       "      <td>1.0</td>\n",
       "      <td>INE208C01025</td>\n",
       "      <td>Trading - Gas</td>\n",
       "      <td>Equity</td>\n",
       "      <td>Energy</td>\n",
       "      <td>Oil, Gas &amp; Consumable Fuels</td>\n",
       "      <td>Gas</td>\n",
       "      <td>Trading - Gas</td>\n",
       "      <td>NaN</td>\n",
       "    </tr>\n",
       "    <tr>\n",
       "      <th>500008</th>\n",
       "      <td>Amara Raja Batteries Ltd</td>\n",
       "      <td>AMARAJABAT</td>\n",
       "      <td>AMARA RAJA BATTERIES LTD.</td>\n",
       "      <td>Active</td>\n",
       "      <td>A</td>\n",
       "      <td>1.0</td>\n",
       "      <td>INE885A01032</td>\n",
       "      <td>Auto Components &amp; Equipments</td>\n",
       "      <td>Equity</td>\n",
       "      <td>Consumer Discretionary</td>\n",
       "      <td>Automobile and Auto Components</td>\n",
       "      <td>Auto Components</td>\n",
       "      <td>Auto Components &amp; Equipments</td>\n",
       "      <td>NaN</td>\n",
       "    </tr>\n",
       "    <tr>\n",
       "      <th>500009</th>\n",
       "      <td>Ambalal Sarabhai Enterprise Ltd.,</td>\n",
       "      <td>AMBALALSA</td>\n",
       "      <td>AMBALAL SARABHAI ENTERPRISES LTD.</td>\n",
       "      <td>Active</td>\n",
       "      <td>X</td>\n",
       "      <td>10.0</td>\n",
       "      <td>INE432A01017</td>\n",
       "      <td>Pharmaceuticals</td>\n",
       "      <td>Equity</td>\n",
       "      <td>Healthcare</td>\n",
       "      <td>Healthcare</td>\n",
       "      <td>Pharmaceuticals &amp; Biotechnology</td>\n",
       "      <td>Pharmaceuticals</td>\n",
       "      <td>NaN</td>\n",
       "    </tr>\n",
       "    <tr>\n",
       "      <th>500010</th>\n",
       "      <td>Housing Development Finance Corp.Lt</td>\n",
       "      <td>HDFC</td>\n",
       "      <td>HOUSING DEVELOPMENT FINANCE CORP.LTD.</td>\n",
       "      <td>Active</td>\n",
       "      <td>A</td>\n",
       "      <td>2.0</td>\n",
       "      <td>INE001A01036</td>\n",
       "      <td>Housing Finance Company</td>\n",
       "      <td>Equity</td>\n",
       "      <td>Financial Services</td>\n",
       "      <td>Financial Services</td>\n",
       "      <td>Finance</td>\n",
       "      <td>Housing Finance Company</td>\n",
       "      <td>NaN</td>\n",
       "    </tr>\n",
       "    <tr>\n",
       "      <th>500012</th>\n",
       "      <td>Andhra Petrochemicals Ltd.,</td>\n",
       "      <td>ANDHRAPET</td>\n",
       "      <td>ANDHRA PETROCHEMICALS LTD.</td>\n",
       "      <td>Active</td>\n",
       "      <td>X</td>\n",
       "      <td>10.0</td>\n",
       "      <td>INE714B01016</td>\n",
       "      <td>Commodity Chemicals</td>\n",
       "      <td>Equity</td>\n",
       "      <td>Commodities</td>\n",
       "      <td>Chemicals</td>\n",
       "      <td>Chemicals &amp; Petrochemicals</td>\n",
       "      <td>Commodity Chemicals</td>\n",
       "      <td>NaN</td>\n",
       "    </tr>\n",
       "    <tr>\n",
       "      <th>500013</th>\n",
       "      <td>Ansal Properties &amp; Infrastructure Ltd.</td>\n",
       "      <td>ANSALAPI</td>\n",
       "      <td>ANSAL PROPERTIES &amp; INFRASTRUCTURE LTD.</td>\n",
       "      <td>Active</td>\n",
       "      <td>T</td>\n",
       "      <td>5.0</td>\n",
       "      <td>INE436A01026</td>\n",
       "      <td>Residential- Commercial Projects</td>\n",
       "      <td>Equity</td>\n",
       "      <td>Consumer Discretionary</td>\n",
       "      <td>Realty</td>\n",
       "      <td>Realty</td>\n",
       "      <td>Residential, Commercial Projects</td>\n",
       "      <td>NaN</td>\n",
       "    </tr>\n",
       "    <tr>\n",
       "      <th>500014</th>\n",
       "      <td>UTIQUE ENTERPRISES LIMITED</td>\n",
       "      <td>UTIQUE</td>\n",
       "      <td>Utique Enterprises Ltd</td>\n",
       "      <td>Active</td>\n",
       "      <td>X</td>\n",
       "      <td>10.0</td>\n",
       "      <td>INE096A01010</td>\n",
       "      <td>Precious Metals</td>\n",
       "      <td>Equity</td>\n",
       "      <td>Commodities</td>\n",
       "      <td>Metals &amp; Mining</td>\n",
       "      <td>Non - Ferrous Metals</td>\n",
       "      <td>Precious Metals</td>\n",
       "      <td>NaN</td>\n",
       "    </tr>\n",
       "    <tr>\n",
       "      <th>500016</th>\n",
       "      <td>Aruna Hotels Ltd.</td>\n",
       "      <td>ARUNAHTEL</td>\n",
       "      <td>ARUNA HOTELS LTD.</td>\n",
       "      <td>Active</td>\n",
       "      <td>X</td>\n",
       "      <td>10.0</td>\n",
       "      <td>INE957C01019</td>\n",
       "      <td>Hotels &amp; Resorts</td>\n",
       "      <td>Equity</td>\n",
       "      <td>Consumer Discretionary</td>\n",
       "      <td>Consumer Services</td>\n",
       "      <td>Leisure Services</td>\n",
       "      <td>Hotels &amp; Resorts</td>\n",
       "      <td>NaN</td>\n",
       "    </tr>\n",
       "    <tr>\n",
       "      <th>500020</th>\n",
       "      <td>Bombay Dyeing &amp; Mfg. Co. Ltd.,</td>\n",
       "      <td>BOMDYEING</td>\n",
       "      <td>BOMBAY DYEING &amp; MFG.CO.LTD.</td>\n",
       "      <td>Active</td>\n",
       "      <td>B</td>\n",
       "      <td>2.0</td>\n",
       "      <td>INE032A01023</td>\n",
       "      <td>Other Textile Products</td>\n",
       "      <td>Equity</td>\n",
       "      <td>Consumer Discretionary</td>\n",
       "      <td>Textiles</td>\n",
       "      <td>Textiles &amp; Apparels</td>\n",
       "      <td>Other Textile Products</td>\n",
       "      <td>NaN</td>\n",
       "    </tr>\n",
       "  </tbody>\n",
       "</table>\n",
       "</div>"
      ],
      "text/plain": [
       "                                 Security Code Issuer Name  \\\n",
       "500002                       ABB India Limited         ABB   \n",
       "500003                    Aegis Logistics Ltd.    AEGISLOG   \n",
       "500008                Amara Raja Batteries Ltd  AMARAJABAT   \n",
       "500009       Ambalal Sarabhai Enterprise Ltd.,   AMBALALSA   \n",
       "500010     Housing Development Finance Corp.Lt        HDFC   \n",
       "500012             Andhra Petrochemicals Ltd.,   ANDHRAPET   \n",
       "500013  Ansal Properties & Infrastructure Ltd.    ANSALAPI   \n",
       "500014              UTIQUE ENTERPRISES LIMITED      UTIQUE   \n",
       "500016                       Aruna Hotels Ltd.   ARUNAHTEL   \n",
       "500020          Bombay Dyeing & Mfg. Co. Ltd.,   BOMDYEING   \n",
       "\n",
       "                                   Security Id Security Name Status  Group  \\\n",
       "500002                       ABB India Limited        Active     A     2.0   \n",
       "500003                    AEGIS LOGISTICS LTD.        Active     A     1.0   \n",
       "500008               AMARA RAJA BATTERIES LTD.        Active     A     1.0   \n",
       "500009       AMBALAL SARABHAI ENTERPRISES LTD.        Active     X    10.0   \n",
       "500010   HOUSING DEVELOPMENT FINANCE CORP.LTD.        Active     A     2.0   \n",
       "500012              ANDHRA PETROCHEMICALS LTD.        Active     X    10.0   \n",
       "500013  ANSAL PROPERTIES & INFRASTRUCTURE LTD.        Active     T     5.0   \n",
       "500014                  Utique Enterprises Ltd        Active     X    10.0   \n",
       "500016                       ARUNA HOTELS LTD.        Active     X    10.0   \n",
       "500020             BOMBAY DYEING & MFG.CO.LTD.        Active     B     2.0   \n",
       "\n",
       "          Face Value                           ISIN No Industry  \\\n",
       "500002  INE117A01022        Heavy Electrical Equipment   Equity   \n",
       "500003  INE208C01025                     Trading - Gas   Equity   \n",
       "500008  INE885A01032      Auto Components & Equipments   Equity   \n",
       "500009  INE432A01017                   Pharmaceuticals   Equity   \n",
       "500010  INE001A01036           Housing Finance Company   Equity   \n",
       "500012  INE714B01016               Commodity Chemicals   Equity   \n",
       "500013  INE436A01026  Residential- Commercial Projects   Equity   \n",
       "500014  INE096A01010                   Precious Metals   Equity   \n",
       "500016  INE957C01019                  Hotels & Resorts   Equity   \n",
       "500020  INE032A01023            Other Textile Products   Equity   \n",
       "\n",
       "                    Instrument                     Sector Name  \\\n",
       "500002             Industrials                   Capital Goods   \n",
       "500003                  Energy     Oil, Gas & Consumable Fuels   \n",
       "500008  Consumer Discretionary  Automobile and Auto Components   \n",
       "500009              Healthcare                      Healthcare   \n",
       "500010      Financial Services              Financial Services   \n",
       "500012             Commodities                       Chemicals   \n",
       "500013  Consumer Discretionary                          Realty   \n",
       "500014             Commodities                 Metals & Mining   \n",
       "500016  Consumer Discretionary               Consumer Services   \n",
       "500020  Consumer Discretionary                        Textiles   \n",
       "\n",
       "                      Industry New Name                       Igroup Name  \\\n",
       "500002             Electrical Equipment        Heavy Electrical Equipment   \n",
       "500003                              Gas                     Trading - Gas   \n",
       "500008                  Auto Components      Auto Components & Equipments   \n",
       "500009  Pharmaceuticals & Biotechnology                   Pharmaceuticals   \n",
       "500010                          Finance           Housing Finance Company   \n",
       "500012       Chemicals & Petrochemicals               Commodity Chemicals   \n",
       "500013                           Realty  Residential, Commercial Projects   \n",
       "500014             Non - Ferrous Metals                   Precious Metals   \n",
       "500016                 Leisure Services                  Hotels & Resorts   \n",
       "500020              Textiles & Apparels            Other Textile Products   \n",
       "\n",
       "        ISubgroup Name  \n",
       "500002             NaN  \n",
       "500003             NaN  \n",
       "500008             NaN  \n",
       "500009             NaN  \n",
       "500010             NaN  \n",
       "500012             NaN  \n",
       "500013             NaN  \n",
       "500014             NaN  \n",
       "500016             NaN  \n",
       "500020             NaN  "
      ]
     },
     "execution_count": 62,
     "metadata": {},
     "output_type": "execute_result"
    }
   ],
   "source": [
    "stock_names.head(10)"
   ]
  },
  {
   "cell_type": "markdown",
   "id": "bb943244",
   "metadata": {},
   "source": [
    "# 1.0 Data read from yfinance"
   ]
  },
  {
   "cell_type": "markdown",
   "id": "f3df57e7",
   "metadata": {},
   "source": [
    "## 1.1 yfinance"
   ]
  },
  {
   "cell_type": "code",
   "execution_count": 84,
   "id": "f36d6437",
   "metadata": {},
   "outputs": [],
   "source": [
    "stock = 'HDFCBANK'"
   ]
  },
  {
   "cell_type": "code",
   "execution_count": 85,
   "id": "97b84424",
   "metadata": {},
   "outputs": [
    {
     "name": "stdout",
     "output_type": "stream",
     "text": [
      "(7022, 7)\n"
     ]
    },
    {
     "data": {
      "text/html": [
       "<div>\n",
       "<style scoped>\n",
       "    .dataframe tbody tr th:only-of-type {\n",
       "        vertical-align: middle;\n",
       "    }\n",
       "\n",
       "    .dataframe tbody tr th {\n",
       "        vertical-align: top;\n",
       "    }\n",
       "\n",
       "    .dataframe thead th {\n",
       "        text-align: right;\n",
       "    }\n",
       "</style>\n",
       "<table border=\"1\" class=\"dataframe\">\n",
       "  <thead>\n",
       "    <tr style=\"text-align: right;\">\n",
       "      <th></th>\n",
       "      <th>Open</th>\n",
       "      <th>High</th>\n",
       "      <th>Low</th>\n",
       "      <th>Close</th>\n",
       "      <th>Volume</th>\n",
       "      <th>Dividends</th>\n",
       "      <th>Stock Splits</th>\n",
       "    </tr>\n",
       "    <tr>\n",
       "      <th>Date</th>\n",
       "      <th></th>\n",
       "      <th></th>\n",
       "      <th></th>\n",
       "      <th></th>\n",
       "      <th></th>\n",
       "      <th></th>\n",
       "      <th></th>\n",
       "    </tr>\n",
       "  </thead>\n",
       "  <tbody>\n",
       "    <tr>\n",
       "      <th>1996-01-01 00:00:00+05:30</th>\n",
       "      <td>2.402506</td>\n",
       "      <td>2.402506</td>\n",
       "      <td>2.319251</td>\n",
       "      <td>2.362860</td>\n",
       "      <td>350000</td>\n",
       "      <td>0.0</td>\n",
       "      <td>0.0</td>\n",
       "    </tr>\n",
       "    <tr>\n",
       "      <th>1996-01-02 00:00:00+05:30</th>\n",
       "      <td>2.362861</td>\n",
       "      <td>2.398542</td>\n",
       "      <td>2.339074</td>\n",
       "      <td>2.358896</td>\n",
       "      <td>412000</td>\n",
       "      <td>0.0</td>\n",
       "      <td>0.0</td>\n",
       "    </tr>\n",
       "    <tr>\n",
       "      <th>1996-01-03 00:00:00+05:30</th>\n",
       "      <td>2.358896</td>\n",
       "      <td>2.374754</td>\n",
       "      <td>2.339074</td>\n",
       "      <td>2.366825</td>\n",
       "      <td>284000</td>\n",
       "      <td>0.0</td>\n",
       "      <td>0.0</td>\n",
       "    </tr>\n",
       "    <tr>\n",
       "      <th>1996-01-04 00:00:00+05:30</th>\n",
       "      <td>2.366825</td>\n",
       "      <td>2.362860</td>\n",
       "      <td>2.331144</td>\n",
       "      <td>2.350966</td>\n",
       "      <td>282000</td>\n",
       "      <td>0.0</td>\n",
       "      <td>0.0</td>\n",
       "    </tr>\n",
       "    <tr>\n",
       "      <th>1996-01-05 00:00:00+05:30</th>\n",
       "      <td>2.350966</td>\n",
       "      <td>2.362860</td>\n",
       "      <td>2.339073</td>\n",
       "      <td>2.347002</td>\n",
       "      <td>189000</td>\n",
       "      <td>0.0</td>\n",
       "      <td>0.0</td>\n",
       "    </tr>\n",
       "  </tbody>\n",
       "</table>\n",
       "</div>"
      ],
      "text/plain": [
       "                               Open      High       Low     Close  Volume  \\\n",
       "Date                                                                        \n",
       "1996-01-01 00:00:00+05:30  2.402506  2.402506  2.319251  2.362860  350000   \n",
       "1996-01-02 00:00:00+05:30  2.362861  2.398542  2.339074  2.358896  412000   \n",
       "1996-01-03 00:00:00+05:30  2.358896  2.374754  2.339074  2.366825  284000   \n",
       "1996-01-04 00:00:00+05:30  2.366825  2.362860  2.331144  2.350966  282000   \n",
       "1996-01-05 00:00:00+05:30  2.350966  2.362860  2.339073  2.347002  189000   \n",
       "\n",
       "                           Dividends  Stock Splits  \n",
       "Date                                                \n",
       "1996-01-01 00:00:00+05:30        0.0           0.0  \n",
       "1996-01-02 00:00:00+05:30        0.0           0.0  \n",
       "1996-01-03 00:00:00+05:30        0.0           0.0  \n",
       "1996-01-04 00:00:00+05:30        0.0           0.0  \n",
       "1996-01-05 00:00:00+05:30        0.0           0.0  "
      ]
     },
     "execution_count": 85,
     "metadata": {},
     "output_type": "execute_result"
    }
   ],
   "source": [
    "mondays = WeekdayLocator(MONDAY)      \n",
    "alldays = DayLocator()\n",
    "months = mdates.MonthLocator()\n",
    "years = mdates.YearLocator()\n",
    "yearFormatter=   DateFormatter('%Y')       \n",
    "weekFormatter = DateFormatter('%b %Y')  \n",
    "dayFormatter = DateFormatter('%d-%b-%Y')  \n",
    "#df = get_history(symbol=stock, start=start, end=end)\n",
    "stock_name = yf.Ticker(stock+'.NS')\n",
    "df = stock_name.history(period='max')\n",
    "print(df.shape)\n",
    "df.head()"
   ]
  },
  {
   "cell_type": "code",
   "execution_count": 86,
   "id": "0904f872",
   "metadata": {},
   "outputs": [
    {
     "data": {
      "text/html": [
       "<div>\n",
       "<style scoped>\n",
       "    .dataframe tbody tr th:only-of-type {\n",
       "        vertical-align: middle;\n",
       "    }\n",
       "\n",
       "    .dataframe tbody tr th {\n",
       "        vertical-align: top;\n",
       "    }\n",
       "\n",
       "    .dataframe thead th {\n",
       "        text-align: right;\n",
       "    }\n",
       "</style>\n",
       "<table border=\"1\" class=\"dataframe\">\n",
       "  <thead>\n",
       "    <tr style=\"text-align: right;\">\n",
       "      <th></th>\n",
       "      <th>Open</th>\n",
       "      <th>High</th>\n",
       "      <th>Low</th>\n",
       "      <th>Close</th>\n",
       "      <th>Volume</th>\n",
       "      <th>Dividends</th>\n",
       "      <th>Stock Splits</th>\n",
       "      <th>Date</th>\n",
       "    </tr>\n",
       "  </thead>\n",
       "  <tbody>\n",
       "    <tr>\n",
       "      <th>0</th>\n",
       "      <td>2.402506</td>\n",
       "      <td>2.402506</td>\n",
       "      <td>2.319251</td>\n",
       "      <td>2.362860</td>\n",
       "      <td>350000</td>\n",
       "      <td>0.0</td>\n",
       "      <td>0.0</td>\n",
       "      <td>1996-01-01 00:00:00+05:30</td>\n",
       "    </tr>\n",
       "    <tr>\n",
       "      <th>1</th>\n",
       "      <td>2.362861</td>\n",
       "      <td>2.398542</td>\n",
       "      <td>2.339074</td>\n",
       "      <td>2.358896</td>\n",
       "      <td>412000</td>\n",
       "      <td>0.0</td>\n",
       "      <td>0.0</td>\n",
       "      <td>1996-01-02 00:00:00+05:30</td>\n",
       "    </tr>\n",
       "  </tbody>\n",
       "</table>\n",
       "</div>"
      ],
      "text/plain": [
       "       Open      High       Low     Close  Volume  Dividends  Stock Splits  \\\n",
       "0  2.402506  2.402506  2.319251  2.362860  350000        0.0           0.0   \n",
       "1  2.362861  2.398542  2.339074  2.358896  412000        0.0           0.0   \n",
       "\n",
       "                       Date  \n",
       "0 1996-01-01 00:00:00+05:30  \n",
       "1 1996-01-02 00:00:00+05:30  "
      ]
     },
     "execution_count": 86,
     "metadata": {},
     "output_type": "execute_result"
    }
   ],
   "source": [
    "df[\"Date\"] = pd.to_datetime(df.index)\n",
    "df.reset_index(drop=True, inplace=True)\n",
    "df.head(2)"
   ]
  },
  {
   "cell_type": "code",
   "execution_count": 108,
   "id": "7b8096da",
   "metadata": {},
   "outputs": [],
   "source": []
  },
  {
   "cell_type": "code",
   "execution_count": 112,
   "id": "cf00b0e4",
   "metadata": {},
   "outputs": [
    {
     "data": {
      "text/plain": [
       "(1000, 8)"
      ]
     },
     "execution_count": 112,
     "metadata": {},
     "output_type": "execute_result"
    }
   ],
   "source": [
    "df.shape"
   ]
  },
  {
   "cell_type": "markdown",
   "id": "03141ead",
   "metadata": {},
   "source": [
    "## 1.2 Train test split"
   ]
  },
  {
   "cell_type": "code",
   "execution_count": 113,
   "id": "dd74f7a8",
   "metadata": {},
   "outputs": [],
   "source": [
    "#Taking recent data\n",
    "df = df.iloc[-1000:]\n",
    "\n",
    "# Take the last 25 rows for the test dataset\n",
    "test = df.iloc[-25:]\n",
    "\n",
    "# The rest of the rows will be used for the training dataset\n",
    "train = df.iloc[:-25]\n",
    "\n",
    "train = train[[\"Date\", \"Close\"]]\n",
    "test = test[[\"Date\", \"Close\"]]"
   ]
  },
  {
   "cell_type": "code",
   "execution_count": 87,
   "id": "057cc42f",
   "metadata": {},
   "outputs": [
    {
     "name": "stdout",
     "output_type": "stream",
     "text": [
      "train_size: 5617\n",
      "test_size: 1404\n"
     ]
    }
   ],
   "source": [
    "# # Take the last 25 rows for the test dataset\n",
    "# test = df.tail(25)\n",
    "\n",
    "# # The rest of the rows will be used for the training dataset\n",
    "# train = df.iloc[:-25,:]\n",
    "\n",
    "# test_ratio = 0.2\n",
    "# training_ratio = 1 - test_ratio\n",
    "\n",
    "# train_size = int(training_ratio * len(df))\n",
    "# test_size = int(test_ratio * len(df))\n",
    "# print(f\"train_size: {train_size}\")\n",
    "# print(f\"test_size: {test_size}\")\n",
    "\n",
    "# train = df[:train_size][[\"Date\", \"Close\"]]\n",
    "# test = df[train_size:][[\"Date\", \"Close\"]]"
   ]
  },
  {
   "cell_type": "code",
   "execution_count": 114,
   "id": "c05d2060",
   "metadata": {},
   "outputs": [],
   "source": [
    "training_set = train.iloc[:, 1:2].values"
   ]
  },
  {
   "cell_type": "markdown",
   "id": "e570dd33",
   "metadata": {},
   "source": [
    "# 2.0 Model pre-processing"
   ]
  },
  {
   "cell_type": "markdown",
   "id": "2e1be766",
   "metadata": {},
   "source": [
    "## 2.1 Scaling"
   ]
  },
  {
   "cell_type": "code",
   "execution_count": 115,
   "id": "24c4fdab",
   "metadata": {},
   "outputs": [],
   "source": [
    "from sklearn.preprocessing import MinMaxScaler\n",
    "sc = MinMaxScaler(feature_range = (0, 1))\n",
    "training_set_scaled = sc.fit_transform(training_set)"
   ]
  },
  {
   "cell_type": "markdown",
   "id": "f119add3",
   "metadata": {
    "colab_type": "text",
    "id": "JyYgYocqhNUg"
   },
   "source": [
    "## 2.2 Creating a data structure with 60 timesteps and 1 output"
   ]
  },
  {
   "cell_type": "code",
   "execution_count": 116,
   "id": "bd564120",
   "metadata": {
    "colab": {},
    "colab_type": "code",
    "id": "iofU21B0i6ST"
   },
   "outputs": [],
   "source": [
    "X_train = []\n",
    "y_train = []\n",
    "for i in range(60, len(training_set_scaled)):\n",
    "    X_train.append(training_set_scaled[i-60:i, 0])\n",
    "    y_train.append(training_set_scaled[i, 0])\n",
    "X_train, y_train = np.array(X_train), np.array(y_train)"
   ]
  },
  {
   "cell_type": "markdown",
   "id": "08184afe",
   "metadata": {
    "colab_type": "text",
    "id": "D8yaN7Zvi95l"
   },
   "source": [
    "## 2.3 Reshaping"
   ]
  },
  {
   "cell_type": "code",
   "execution_count": 117,
   "id": "bc8d2941",
   "metadata": {
    "colab": {},
    "colab_type": "code",
    "id": "FOXqJHmNjBkz"
   },
   "outputs": [],
   "source": [
    "X_train = np.reshape(X_train, (X_train.shape[0], X_train.shape[1], 1))"
   ]
  },
  {
   "cell_type": "markdown",
   "id": "2cda82dc",
   "metadata": {
    "colab_type": "text",
    "id": "ZRRSOJeVjEWV"
   },
   "source": [
    "# 3.0 Building and Training the RNN"
   ]
  },
  {
   "cell_type": "markdown",
   "id": "1e25d057",
   "metadata": {
    "colab_type": "text",
    "id": "k4XV88JMjHXG"
   },
   "source": [
    "### Importing the Keras libraries and packages"
   ]
  },
  {
   "cell_type": "code",
   "execution_count": 118,
   "id": "2057fe5a",
   "metadata": {
    "colab": {
     "base_uri": "https://localhost:8080/",
     "height": 34
    },
    "colab_type": "code",
    "id": "9JRnqsxEjKsD",
    "outputId": "b3e23e78-18aa-4396-c923-c877b8de60e4"
   },
   "outputs": [],
   "source": [
    "from keras.models import Sequential\n",
    "from keras.layers import Dense\n",
    "from keras.layers import LSTM\n",
    "from keras.layers import Dropout"
   ]
  },
  {
   "cell_type": "markdown",
   "id": "4d2a8aa2",
   "metadata": {
    "colab_type": "text",
    "id": "FEIE-1s9jNzC"
   },
   "source": [
    "### Initialising the RNN"
   ]
  },
  {
   "cell_type": "code",
   "execution_count": 119,
   "id": "07c785b6",
   "metadata": {
    "colab": {},
    "colab_type": "code",
    "id": "1338dJ0UjRKH"
   },
   "outputs": [],
   "source": [
    "regressor = Sequential()"
   ]
  },
  {
   "cell_type": "markdown",
   "id": "1833fae9",
   "metadata": {
    "colab_type": "text",
    "id": "62eg1OPGjT8z"
   },
   "source": [
    "### Adding the first LSTM layer and some Dropout regularisation"
   ]
  },
  {
   "cell_type": "code",
   "execution_count": 120,
   "id": "7bfda07d",
   "metadata": {
    "colab": {},
    "colab_type": "code",
    "id": "2hIinyXUjbVU"
   },
   "outputs": [],
   "source": [
    "regressor.add(LSTM(units = 50, return_sequences = True, input_shape = (X_train.shape[1], 1)))\n",
    "regressor.add(Dropout(0.2))"
   ]
  },
  {
   "cell_type": "markdown",
   "id": "c5ff8440",
   "metadata": {
    "colab_type": "text",
    "id": "3XBIYLyOjlMx"
   },
   "source": [
    "### Adding a second LSTM layer and some Dropout regularisation"
   ]
  },
  {
   "cell_type": "code",
   "execution_count": 121,
   "id": "0c1be147",
   "metadata": {
    "colab": {},
    "colab_type": "code",
    "id": "UG7nrVaSjuZ2"
   },
   "outputs": [],
   "source": [
    "regressor.add(LSTM(units = 50, return_sequences = True))\n",
    "regressor.add(Dropout(0.2))"
   ]
  },
  {
   "cell_type": "markdown",
   "id": "a8ded448",
   "metadata": {
    "colab_type": "text",
    "id": "Ey3fHVnGj1cu"
   },
   "source": [
    "### Adding a third LSTM layer and some Dropout regularisation"
   ]
  },
  {
   "cell_type": "code",
   "execution_count": 122,
   "id": "f0114b89",
   "metadata": {
    "colab": {},
    "colab_type": "code",
    "id": "PuNi6PgFj7jO"
   },
   "outputs": [],
   "source": [
    "regressor.add(LSTM(units = 50, return_sequences = True))\n",
    "regressor.add(Dropout(0.2))"
   ]
  },
  {
   "cell_type": "markdown",
   "id": "1b390ddd",
   "metadata": {
    "colab_type": "text",
    "id": "SYTrtfTmj933"
   },
   "source": [
    "### Adding a fourth LSTM layer and some Dropout regularisation"
   ]
  },
  {
   "cell_type": "code",
   "execution_count": 123,
   "id": "87380459",
   "metadata": {
    "colab": {},
    "colab_type": "code",
    "id": "Jp4Ty8fRkBYV"
   },
   "outputs": [],
   "source": [
    "regressor.add(LSTM(units = 50))\n",
    "regressor.add(Dropout(0.2))"
   ]
  },
  {
   "cell_type": "markdown",
   "id": "afa6f48b",
   "metadata": {
    "colab_type": "text",
    "id": "9ABI6rOIkHhk"
   },
   "source": [
    "### Adding the output layer"
   ]
  },
  {
   "cell_type": "code",
   "execution_count": 124,
   "id": "92c93e29",
   "metadata": {
    "colab": {},
    "colab_type": "code",
    "id": "aM6R1z4WkME8"
   },
   "outputs": [],
   "source": [
    "regressor.add(Dense(units = 1))"
   ]
  },
  {
   "cell_type": "markdown",
   "id": "06d7edd8",
   "metadata": {
    "colab_type": "text",
    "id": "zLx4K7uUkPSh"
   },
   "source": [
    "### Compiling the RNN"
   ]
  },
  {
   "cell_type": "code",
   "execution_count": 125,
   "id": "12be123c",
   "metadata": {
    "colab": {},
    "colab_type": "code",
    "id": "XTrhVN-tkbko"
   },
   "outputs": [],
   "source": [
    "regressor.compile(optimizer = 'adam', loss = 'mean_squared_error')"
   ]
  },
  {
   "cell_type": "markdown",
   "id": "83211f13",
   "metadata": {
    "colab_type": "text",
    "id": "-mPhwKGkkebi"
   },
   "source": [
    "### Fitting the RNN to the Training set"
   ]
  },
  {
   "cell_type": "code",
   "execution_count": 126,
   "id": "b2f9063a",
   "metadata": {
    "colab": {
     "base_uri": "https://localhost:8080/",
     "height": 1000
    },
    "colab_type": "code",
    "id": "I06Nkrz5kkb-",
    "outputId": "dc9d947a-4d5c-4dbc-ed45-31bf44b98dfb",
    "scrolled": true
   },
   "outputs": [
    {
     "name": "stdout",
     "output_type": "stream",
     "text": [
      "Epoch 1/100\n",
      "29/29 [==============================] - 19s 102ms/step - loss: 0.0812\n",
      "Epoch 2/100\n",
      "29/29 [==============================] - 3s 105ms/step - loss: 0.0137\n",
      "Epoch 3/100\n",
      "29/29 [==============================] - 3s 101ms/step - loss: 0.0110\n",
      "Epoch 4/100\n",
      "29/29 [==============================] - 3s 100ms/step - loss: 0.0108\n",
      "Epoch 5/100\n",
      "29/29 [==============================] - 3s 102ms/step - loss: 0.0099\n",
      "Epoch 6/100\n",
      "29/29 [==============================] - 3s 101ms/step - loss: 0.0097\n",
      "Epoch 7/100\n",
      "29/29 [==============================] - 3s 102ms/step - loss: 0.0093\n",
      "Epoch 8/100\n",
      "29/29 [==============================] - 3s 106ms/step - loss: 0.0085\n",
      "Epoch 9/100\n",
      "29/29 [==============================] - 3s 105ms/step - loss: 0.0078\n",
      "Epoch 10/100\n",
      "29/29 [==============================] - 3s 111ms/step - loss: 0.0084\n",
      "Epoch 11/100\n",
      "29/29 [==============================] - 3s 113ms/step - loss: 0.0084\n",
      "Epoch 12/100\n",
      "29/29 [==============================] - 3s 105ms/step - loss: 0.0078\n",
      "Epoch 13/100\n",
      "29/29 [==============================] - 3s 104ms/step - loss: 0.0072\n",
      "Epoch 14/100\n",
      "29/29 [==============================] - 3s 104ms/step - loss: 0.0082\n",
      "Epoch 15/100\n",
      "29/29 [==============================] - 3s 107ms/step - loss: 0.0071\n",
      "Epoch 16/100\n",
      "29/29 [==============================] - 3s 105ms/step - loss: 0.0077\n",
      "Epoch 17/100\n",
      "29/29 [==============================] - 3s 105ms/step - loss: 0.0071\n",
      "Epoch 18/100\n",
      "29/29 [==============================] - 3s 105ms/step - loss: 0.0066\n",
      "Epoch 19/100\n",
      "29/29 [==============================] - 3s 103ms/step - loss: 0.0064\n",
      "Epoch 20/100\n",
      "29/29 [==============================] - 3s 101ms/step - loss: 0.0071\n",
      "Epoch 21/100\n",
      "29/29 [==============================] - 3s 101ms/step - loss: 0.0065\n",
      "Epoch 22/100\n",
      "29/29 [==============================] - 3s 101ms/step - loss: 0.0059\n",
      "Epoch 23/100\n",
      "29/29 [==============================] - 3s 101ms/step - loss: 0.0064\n",
      "Epoch 24/100\n",
      "29/29 [==============================] - 3s 101ms/step - loss: 0.0063\n",
      "Epoch 25/100\n",
      "29/29 [==============================] - 3s 101ms/step - loss: 0.0069\n",
      "Epoch 26/100\n",
      "29/29 [==============================] - 3s 101ms/step - loss: 0.0071\n",
      "Epoch 27/100\n",
      "29/29 [==============================] - 3s 100ms/step - loss: 0.0060\n",
      "Epoch 28/100\n",
      "29/29 [==============================] - 3s 100ms/step - loss: 0.0062\n",
      "Epoch 29/100\n",
      "29/29 [==============================] - 3s 101ms/step - loss: 0.0059\n",
      "Epoch 30/100\n",
      "29/29 [==============================] - 3s 103ms/step - loss: 0.0061\n",
      "Epoch 31/100\n",
      "29/29 [==============================] - 3s 101ms/step - loss: 0.0059\n",
      "Epoch 32/100\n",
      "29/29 [==============================] - 3s 100ms/step - loss: 0.0055\n",
      "Epoch 33/100\n",
      "29/29 [==============================] - 3s 102ms/step - loss: 0.0058\n",
      "Epoch 34/100\n",
      "29/29 [==============================] - 3s 107ms/step - loss: 0.0061\n",
      "Epoch 35/100\n",
      "29/29 [==============================] - 3s 101ms/step - loss: 0.0052\n",
      "Epoch 36/100\n",
      "29/29 [==============================] - 3s 101ms/step - loss: 0.0056\n",
      "Epoch 37/100\n",
      "29/29 [==============================] - 3s 102ms/step - loss: 0.0056\n",
      "Epoch 38/100\n",
      "29/29 [==============================] - 3s 106ms/step - loss: 0.0048\n",
      "Epoch 39/100\n",
      "29/29 [==============================] - 3s 108ms/step - loss: 0.0046\n",
      "Epoch 40/100\n",
      "29/29 [==============================] - 3s 107ms/step - loss: 0.0050\n",
      "Epoch 41/100\n",
      "29/29 [==============================] - 3s 107ms/step - loss: 0.0050\n",
      "Epoch 42/100\n",
      "29/29 [==============================] - 3s 111ms/step - loss: 0.0054\n",
      "Epoch 43/100\n",
      "29/29 [==============================] - 3s 110ms/step - loss: 0.0054\n",
      "Epoch 44/100\n",
      "29/29 [==============================] - 4s 124ms/step - loss: 0.0048\n",
      "Epoch 45/100\n",
      "29/29 [==============================] - 3s 112ms/step - loss: 0.0047\n",
      "Epoch 46/100\n",
      "29/29 [==============================] - 3s 107ms/step - loss: 0.0046\n",
      "Epoch 47/100\n",
      "29/29 [==============================] - 3s 106ms/step - loss: 0.0045\n",
      "Epoch 48/100\n",
      "29/29 [==============================] - 3s 102ms/step - loss: 0.0045\n",
      "Epoch 49/100\n",
      "29/29 [==============================] - 3s 105ms/step - loss: 0.0044\n",
      "Epoch 50/100\n",
      "29/29 [==============================] - 3s 103ms/step - loss: 0.0048\n",
      "Epoch 51/100\n",
      "29/29 [==============================] - 3s 102ms/step - loss: 0.0044\n",
      "Epoch 52/100\n",
      "29/29 [==============================] - 3s 101ms/step - loss: 0.0046\n",
      "Epoch 53/100\n",
      "29/29 [==============================] - 3s 102ms/step - loss: 0.0051\n",
      "Epoch 54/100\n",
      "29/29 [==============================] - 3s 103ms/step - loss: 0.0052\n",
      "Epoch 55/100\n",
      "29/29 [==============================] - 3s 103ms/step - loss: 0.0044\n",
      "Epoch 56/100\n",
      "29/29 [==============================] - 3s 104ms/step - loss: 0.0041\n",
      "Epoch 57/100\n",
      "29/29 [==============================] - 3s 103ms/step - loss: 0.0042\n",
      "Epoch 58/100\n",
      "29/29 [==============================] - 3s 101ms/step - loss: 0.0042\n",
      "Epoch 59/100\n",
      "29/29 [==============================] - 3s 104ms/step - loss: 0.0041\n",
      "Epoch 60/100\n",
      "29/29 [==============================] - 3s 103ms/step - loss: 0.0038\n",
      "Epoch 61/100\n",
      "29/29 [==============================] - 3s 103ms/step - loss: 0.0039\n",
      "Epoch 62/100\n",
      "29/29 [==============================] - 3s 105ms/step - loss: 0.0036\n",
      "Epoch 63/100\n",
      "29/29 [==============================] - 3s 103ms/step - loss: 0.0038\n",
      "Epoch 64/100\n",
      "29/29 [==============================] - 3s 103ms/step - loss: 0.0040\n",
      "Epoch 65/100\n",
      "29/29 [==============================] - 3s 104ms/step - loss: 0.0035\n",
      "Epoch 66/100\n",
      "29/29 [==============================] - 3s 102ms/step - loss: 0.0036\n",
      "Epoch 67/100\n",
      "29/29 [==============================] - 3s 103ms/step - loss: 0.0033\n",
      "Epoch 68/100\n",
      "29/29 [==============================] - 3s 104ms/step - loss: 0.0034\n",
      "Epoch 69/100\n",
      "29/29 [==============================] - 3s 103ms/step - loss: 0.0034\n",
      "Epoch 70/100\n",
      "29/29 [==============================] - 3s 104ms/step - loss: 0.0041\n",
      "Epoch 71/100\n",
      "29/29 [==============================] - 3s 117ms/step - loss: 0.0038\n",
      "Epoch 72/100\n",
      "29/29 [==============================] - 3s 104ms/step - loss: 0.0034\n",
      "Epoch 73/100\n",
      "29/29 [==============================] - 3s 105ms/step - loss: 0.0034\n",
      "Epoch 74/100\n",
      "29/29 [==============================] - 3s 107ms/step - loss: 0.0032\n",
      "Epoch 75/100\n",
      "29/29 [==============================] - 3s 105ms/step - loss: 0.0032\n",
      "Epoch 76/100\n",
      "29/29 [==============================] - 3s 107ms/step - loss: 0.0031\n",
      "Epoch 77/100\n",
      "29/29 [==============================] - 3s 103ms/step - loss: 0.0034\n",
      "Epoch 78/100\n",
      "29/29 [==============================] - 3s 101ms/step - loss: 0.0032\n",
      "Epoch 79/100\n",
      "29/29 [==============================] - 3s 101ms/step - loss: 0.0030\n",
      "Epoch 80/100\n",
      "29/29 [==============================] - 3s 102ms/step - loss: 0.0030\n",
      "Epoch 81/100\n",
      "29/29 [==============================] - 3s 103ms/step - loss: 0.0032\n",
      "Epoch 82/100\n",
      "29/29 [==============================] - 3s 102ms/step - loss: 0.0030\n",
      "Epoch 83/100\n",
      "29/29 [==============================] - 3s 101ms/step - loss: 0.0030\n",
      "Epoch 84/100\n",
      "29/29 [==============================] - 3s 101ms/step - loss: 0.0032\n",
      "Epoch 85/100\n",
      "29/29 [==============================] - 3s 102ms/step - loss: 0.0030\n",
      "Epoch 86/100\n",
      "29/29 [==============================] - 3s 106ms/step - loss: 0.0033\n",
      "Epoch 87/100\n",
      "29/29 [==============================] - 3s 106ms/step - loss: 0.0033\n",
      "Epoch 88/100\n",
      "29/29 [==============================] - 3s 112ms/step - loss: 0.0028\n",
      "Epoch 89/100\n",
      "29/29 [==============================] - 3s 105ms/step - loss: 0.0026\n",
      "Epoch 90/100\n",
      "29/29 [==============================] - 3s 103ms/step - loss: 0.0028\n",
      "Epoch 91/100\n",
      "29/29 [==============================] - 3s 104ms/step - loss: 0.0026\n",
      "Epoch 92/100\n",
      "29/29 [==============================] - 3s 101ms/step - loss: 0.0026\n",
      "Epoch 93/100\n",
      "29/29 [==============================] - 3s 103ms/step - loss: 0.0026\n",
      "Epoch 94/100\n",
      "29/29 [==============================] - 3s 105ms/step - loss: 0.0027\n",
      "Epoch 95/100\n",
      "29/29 [==============================] - 3s 101ms/step - loss: 0.0027\n",
      "Epoch 96/100\n",
      "29/29 [==============================] - 3s 107ms/step - loss: 0.0027\n",
      "Epoch 97/100\n",
      "29/29 [==============================] - 3s 112ms/step - loss: 0.0029\n",
      "Epoch 98/100\n",
      "29/29 [==============================] - 3s 104ms/step - loss: 0.0024\n",
      "Epoch 99/100\n"
     ]
    },
    {
     "name": "stdout",
     "output_type": "stream",
     "text": [
      "29/29 [==============================] - 3s 102ms/step - loss: 0.0027\n",
      "Epoch 100/100\n",
      "29/29 [==============================] - 3s 113ms/step - loss: 0.0025\n",
      "Wall time: 5min 18s\n"
     ]
    },
    {
     "data": {
      "text/plain": [
       "<keras.callbacks.History at 0x1b096861100>"
      ]
     },
     "execution_count": 126,
     "metadata": {},
     "output_type": "execute_result"
    }
   ],
   "source": [
    "%%time\n",
    "\n",
    "regressor.fit(X_train, y_train, epochs = 100, batch_size = 32)"
   ]
  },
  {
   "cell_type": "markdown",
   "id": "6da3eb8c",
   "metadata": {
    "colab_type": "text",
    "id": "4hRau_lIkrE8"
   },
   "source": [
    "## 4.0 Making the predictions and visualising the results"
   ]
  },
  {
   "cell_type": "markdown",
   "id": "920cf13f",
   "metadata": {
    "colab_type": "text",
    "id": "SgJO6qEDksxD"
   },
   "source": [
    "### 4.1 Getting the real stock price"
   ]
  },
  {
   "cell_type": "code",
   "execution_count": 127,
   "id": "eed8d6f8",
   "metadata": {
    "colab": {},
    "colab_type": "code",
    "id": "FmBT2zqukxTz"
   },
   "outputs": [],
   "source": [
    "dataset_train = train\n",
    "dataset_test = test\n",
    "real_stock_price = test.iloc[:, 1:2].values"
   ]
  },
  {
   "cell_type": "markdown",
   "id": "cd670042",
   "metadata": {
    "colab_type": "text",
    "id": "GrvrLblxkz42"
   },
   "source": [
    "### 4.2 Getting the predicted stock price"
   ]
  },
  {
   "cell_type": "code",
   "execution_count": 128,
   "id": "1f32d359",
   "metadata": {
    "colab": {},
    "colab_type": "code",
    "id": "emikTvUpk3Ck"
   },
   "outputs": [
    {
     "name": "stdout",
     "output_type": "stream",
     "text": [
      "1/1 [==============================] - 3s 3s/step\n"
     ]
    }
   ],
   "source": [
    "dataset_total = pd.concat((dataset_train['Close'], dataset_test['Close']), axis = 0)\n",
    "inputs = dataset_total[len(dataset_total) - len(dataset_test) - 60:].values\n",
    "inputs = inputs.reshape(-1,1)\n",
    "inputs = sc.transform(inputs)\n",
    "X_test = []\n",
    "for i in range(60, 60 + len(real_stock_price)):\n",
    "    X_test.append(inputs[i-60:i, 0])\n",
    "X_test = np.array(X_test)\n",
    "X_test = np.reshape(X_test, (X_test.shape[0], X_test.shape[1], 1))\n",
    "predicted_stock_price = regressor.predict(X_test)\n",
    "predicted_stock_price = sc.inverse_transform(predicted_stock_price)"
   ]
  },
  {
   "cell_type": "markdown",
   "id": "50cf3ed6",
   "metadata": {
    "colab_type": "text",
    "id": "iFTNs3YHk6FQ"
   },
   "source": [
    "### 4.3 Visualising the results"
   ]
  },
  {
   "cell_type": "code",
   "execution_count": 129,
   "id": "c020b0e7",
   "metadata": {
    "colab": {
     "base_uri": "https://localhost:8080/",
     "height": 295
    },
    "colab_type": "code",
    "id": "8OUI8U49k9tH",
    "outputId": "db0ed15e-071b-4bae-955e-0eda3df95238"
   },
   "outputs": [
    {
     "data": {
      "image/png": "[encoded data removed]",
      "text/plain": [
       "<Figure size 640x480 with 1 Axes>"
      ]
     },
     "metadata": {},
     "output_type": "display_data"
    }
   ],
   "source": [
    "plt.plot(real_stock_price, color = 'red', label = 'Real Stock Price')\n",
    "plt.plot(predicted_stock_price, color = 'blue', label = 'Predicted Stock Price')\n",
    "plt.title('Stock Price Prediction')\n",
    "plt.xlabel('Time')\n",
    "plt.ylabel('Stock Price')\n",
    "plt.legend()\n",
    "plt.show()"
   ]
  },
  {
   "cell_type": "code",
   "execution_count": null,
   "id": "d6cc4e46",
   "metadata": {},
   "outputs": [],
   "source": []
  }
 ],
 "metadata": {
  "kernelspec": {
   "display_name": "Python 3 (ipykernel)",
   "language": "python",
   "name": "python3"
  },
  "language_info": {
   "codemirror_mode": {
    "name": "ipython",
    "version": 3
   },
   "file_extension": ".py",
   "mimetype": "text/x-python",
   "name": "python",
   "nbconvert_exporter": "python",
   "pygments_lexer": "ipython3",
   "version": "3.9.13"
  }
 },
 "nbformat": 4,
 "nbformat_minor": 5
}
